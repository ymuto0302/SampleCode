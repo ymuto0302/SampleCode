{
  "nbformat": 4,
  "nbformat_minor": 0,
  "metadata": {
    "colab": {
      "name": "Colabにおけるzipファイルの操作.ipynb",
      "provenance": [],
      "collapsed_sections": [],
      "mount_file_id": "1NDrjA_EgWvvyocU9AN-3JsLC3hFxpl-i",
      "authorship_tag": "ABX9TyMZ6iBlxgNg8XPozQH0oyhw",
      "include_colab_link": true
    },
    "kernelspec": {
      "name": "python3",
      "display_name": "Python 3"
    },
    "language_info": {
      "name": "python"
    }
  },
  "cells": [
    {
      "cell_type": "markdown",
      "metadata": {
        "id": "view-in-github",
        "colab_type": "text"
      },
      "source": [
        "<a href=\"https://colab.research.google.com/github/ymuto0302/SampleCode/blob/main/Colab%E3%81%AB%E3%81%8A%E3%81%91%E3%82%8Bzip%E3%83%95%E3%82%A1%E3%82%A4%E3%83%AB%E3%81%AE%E6%93%8D%E4%BD%9C.ipynb\" target=\"_parent\"><img src=\"https://colab.research.google.com/assets/colab-badge.svg\" alt=\"Open In Colab\"/></a>"
      ]
    },
    {
      "cell_type": "markdown",
      "source": [
        "# Google Drive に置かれた zip ファイルを扱う方法\n",
        "zip ファイルの展開について，各操作の背景も含めて詳しく書かれている。\n",
        "\n",
        "https://kenko-keep.com/colab-cp-unzip/\n",
        "\n",
        "以下では，Kaggle にて公開されている Flower Classification を例として説明を進める。\n",
        "https://www.kaggle.com/datasets/sauravagarwal/flower-classification"
      ],
      "metadata": {
        "id": "AWCDHhA6Hpof"
      }
    },
    {
      "cell_type": "code",
      "execution_count": null,
      "metadata": {
        "colab": {
          "base_uri": "https://localhost:8080/"
        },
        "id": "16gRlZziHSTR",
        "outputId": "c67eec1e-61f5-4e0c-a0bd-0ff142e0ca76"
      },
      "outputs": [
        {
          "output_type": "stream",
          "name": "stdout",
          "text": [
            "archive.zip\n"
          ]
        }
      ],
      "source": [
        "# Google Drive 上の zip ファイルが存在することを確認\n",
        "!ls /content/drive/MyDrive/4Bゼミ_2022/flower-classification/"
      ]
    },
    {
      "cell_type": "code",
      "source": [
        "# zip ファイルを Google Colab へコピー\n",
        "!cp \"/content/drive/MyDrive/4Bゼミ_2022/flower-classification/archive.zip\" ."
      ],
      "metadata": {
        "id": "f7Dw5YCAHgTf"
      },
      "execution_count": null,
      "outputs": []
    },
    {
      "cell_type": "code",
      "source": [
        "# zip ファイルの解凍\n",
        "!unzip archive.zip > /dev/null"
      ],
      "metadata": {
        "colab": {
          "base_uri": "https://localhost:8080/"
        },
        "id": "h05dUhu-H9oy",
        "outputId": "297b6a01-f8de-48fa-a49c-4cec94f2ca79"
      },
      "execution_count": null,
      "outputs": [
        {
          "output_type": "stream",
          "name": "stdout",
          "text": [
            "replace flowers/flowers/flower_photos/test/daisy/10172379554_b296050f82_n.jpg? [y]es, [n]o, [A]ll, [N]one, [r]ename: y\n",
            "replace flowers/flowers/flower_photos/test/daisy/1306119996_ab8ae14d72_n.jpg? [y]es, [n]o, [A]ll, [N]one, [r]ename: A\n"
          ]
        }
      ]
    },
    {
      "cell_type": "markdown",
      "source": [
        "Google Colab 上では /content 以下に解凍されている。\n",
        "\n",
        "以下では，フォルダ内の構成を `ls` コマンドで確認している。"
      ],
      "metadata": {
        "id": "mcaB6kLtI1aq"
      }
    },
    {
      "cell_type": "code",
      "source": [
        "!ls /content/flowers/flowers/flower_photos"
      ],
      "metadata": {
        "colab": {
          "base_uri": "https://localhost:8080/"
        },
        "id": "J3cl0PnrIA_5",
        "outputId": "0a5883a6-607a-44b0-c1dd-d473f6bc97d7"
      },
      "execution_count": null,
      "outputs": [
        {
          "output_type": "stream",
          "name": "stdout",
          "text": [
            "test  train  validation\n"
          ]
        }
      ]
    },
    {
      "cell_type": "code",
      "source": [
        "!ls /content/flowers/flowers/flower_photos/train"
      ],
      "metadata": {
        "colab": {
          "base_uri": "https://localhost:8080/"
        },
        "id": "9O5zNNEaIQ1V",
        "outputId": "a4f84d59-3509-44a2-f76e-9527c4873559"
      },
      "execution_count": null,
      "outputs": [
        {
          "output_type": "stream",
          "name": "stdout",
          "text": [
            "daisy  dandelion  roses  sunflowers  tulips\n"
          ]
        }
      ]
    },
    {
      "cell_type": "code",
      "source": [
        "!ls /content/flowers/flowers/flower_photos/test/daisy"
      ],
      "metadata": {
        "colab": {
          "base_uri": "https://localhost:8080/"
        },
        "id": "32Q6xFuEIZ2P",
        "outputId": "ad2ddb91-3e62-48f0-f515-3e46560a63eb"
      },
      "execution_count": null,
      "outputs": [
        {
          "output_type": "stream",
          "name": "stdout",
          "text": [
            "10172379554_b296050f82_n.jpg  3552074420_2a0a7166db_m.jpg\n",
            "1306119996_ab8ae14d72_n.jpg   4141147800_813f660b47.jpg\n",
            "134409839_71069a95d1_m.jpg    538920244_59899a78f8_n.jpg\n",
            "19813618946_93818db7aa_m.jpg  5973488341_50bdf6cee3_n.jpg\n",
            "3338077096_3a8ed0e2bc_m.jpg   8446495985_f72d851482.jpg\n"
          ]
        }
      ]
    },
    {
      "cell_type": "markdown",
      "source": [
        "---\n",
        "# Google Drive に置かれた tar.gz ファイルを扱う方法\n"
      ],
      "metadata": {
        "id": "S4w8IrbWlacw"
      }
    },
    {
      "cell_type": "code",
      "source": [
        "# Google Drive 上の zip ファイルが存在することを確認\n",
        "!ls /content/drive/MyDrive/4Bゼミ_2022/*.tar.gz"
      ],
      "metadata": {
        "colab": {
          "base_uri": "https://localhost:8080/"
        },
        "id": "A8DHLvzcmsaB",
        "outputId": "17b3fdff-2b38-4e65-ff6d-2d67795d0e2b"
      },
      "execution_count": 32,
      "outputs": [
        {
          "output_type": "stream",
          "name": "stdout",
          "text": [
            "/content/drive/MyDrive/4Bゼミ_2022/sample.tar.gz\n"
          ]
        }
      ]
    },
    {
      "cell_type": "code",
      "source": [
        "# zip ファイルを Google Colab へコピー\n",
        "!cp \"/content/drive/MyDrive/4Bゼミ_2022/sample.tar.gz\" ."
      ],
      "metadata": {
        "id": "5INmF4tHmrcK"
      },
      "execution_count": 33,
      "outputs": []
    },
    {
      "cell_type": "code",
      "source": [
        "!tar -zxvf 'sample.tar.gz'"
      ],
      "metadata": {
        "id": "1i6OmBS_lfcN"
      },
      "execution_count": null,
      "outputs": []
    },
    {
      "cell_type": "code",
      "source": [
        "!ls \"/content/37_香川県\""
      ],
      "metadata": {
        "colab": {
          "base_uri": "https://localhost:8080/"
        },
        "id": "O4oLVw-nlwQ9",
        "outputId": "486b192c-e38c-4c22-e4df-905b22bae64c"
      },
      "execution_count": 36,
      "outputs": [
        {
          "output_type": "stream",
          "name": "stdout",
          "text": [
            "5ZCkiS3PWDmxRY8L.jpg  FT-gBRzWUAAKbqa.jpg  FUHaPxxWQAUxM2T.jpg\n",
            "8ZXX1vkmkpPkvtq4.jpg  FT_gMd4aQAEcbnr.jpg  FUhf3nsVEAEb3zq.jpg\n",
            "9eV591Z39l-B7kI_.jpg  FT-hDfgWAAIc5mX.jpg  FUHiN_TagAAO6Cm.jpg\n",
            "bWg0EqLjTM-oC-xD.jpg  FT_hxTKaIAUOsAm.jpg  FUHisamaMAAa5U4.jpg\n",
            "FT01iS8agAAX88c.jpg   FT_IrprVsAUaw3M.jpg  FUHQ1pqUYAAC3ag.jpg\n",
            "FT0_1SBaQAAX_QR.jpg   FT-j5ucaAAEUbbx.jpg  FUHqF_1akAApy-k.jpg\n",
            "FT03U2sUAAA19bM.jpg   FT_-JO9aAAEUyYQ.jpg  FUhR-dsUcAAlHar.jpg\n",
            "FT06MNnUcAAQNKL.jpg   FT-KuzzaIAAkZYK.jpg  FUHxB6WacAEu5ZQ.jpg\n",
            "FT08b8VXEAA7RV9.jpg   FT-lUYQVUAE9bRm.jpg  FUHxdmqaQAAY2n5.jpg\n",
            "FT0BCgsakAAP63t.jpg   FT_mPg8WUAAQtZs.jpg  FUhY2KtaUAANCCP.jpg\n",
            "FT0BzCkaUAMFAG5.jpg   FT-N4IKaMAUlNhG.jpg  FUHYlabacAA9_lc.jpg\n",
            "FT0C5lHakAATtoz.jpg   FT-nMyaUcAIsh0o.jpg  FUHYUCuacAApFi8.jpg\n",
            "FT0D1NIVUAE83cj.jpg   FT-Oe7FUcAAXHgm.jpg  FUHZJyOagAAn4Ew.jpg\n",
            "FT0DGCaagAE5dWC.jpg   FT-OYinaAAA38qW.jpg  FUHZlUxagAA_-0W.jpg\n",
            "FT0DRgmaQAADi82.jpg   FT-qOYRVEAANL-M.jpg  FUhZXRaaMAAf29W.jpg\n",
            "FT0dt8XacAIWJCe.jpg   FTryNmYXsAEtwDK.jpg  FUHzZFIagAECx47.jpg\n",
            "FT0EWdXUEAEciFH.jpg   FT-RZkkUUAAwE0q.jpg  FUi3GjpWYAApL4Q.jpg\n",
            "FT0fmD8XEAAaB-b.jpg   FT-S8igWAAAgvNk.jpg  FUI3RReacAA4Sag.jpg\n",
            "FT0fobSUYAEbOif.jpg   FT_t59-VsAEFF2K.jpg  FUi5b13aQAAHXru.jpg\n",
            "FT0FsbIWYAAxdJp.jpg   FT_Ts49VUAEEMlj.jpg  FUibN2UaIAA8e0f.jpg\n",
            "FT0fZzsUUAAAJoz.jpg   FT_tS6PXEAEFOTH.jpg  FUieQIQUEAIbCJt.jpg\n",
            "FT0GEhiWYAIEauh.jpg   FT-tu6waQAAEZ7q.jpg  FUI_iwFUYAA7_lb.jpg\n",
            "FT0h_qxUYAAGtkz.jpg   FT_TXlJacAAheqX.jpg  FUIjolUUcAIcw0Q.jpg\n",
            "FT0hW6IXsAAjdWi.jpg   FTu0WdVVIAAXrZw.jpg  FUik7BiacAAQ51G.jpg\n",
            "FT0HxlHaUAA7gni.jpg   FTu3_ObaMAEwvzx.jpg  FUioCDSVIAAnJ2o.jpg\n",
            "FT0lGq-UEAAgn2S.jpg   FTu47tqVIAEe78f.jpg  FUirR_DWUAEQLtx.jpg\n",
            "FT0LLtVaUAAlnMK.jpg   FTu4mjaaMAA3eJI.jpg  FUIthygVUAAx9Xb.jpg\n",
            "FT0MqWnUUAAtq2j.jpg   FTu64UJaIAARTvU.jpg  FUIuGwLacAA8B4a.jpg\n",
            "FT0N03paAAAKx5L.jpg   FTummFrVsAEVJiu.jpg  FUiUvqFaAAEp1oi.jpg\n",
            "FT0NaDhUcAAU15A.jpg   FTuSp0nX0AUOxjL.jpg  FUiwH7XagAE3Cpm.jpg\n",
            "FT0NGimaUAAJJGe.jpg   FTuvfLWUEAAGAe9.jpg  FUixJ3GagAAaIrJ.jpg\n",
            "FT0Nm2xaQAAMsPS.jpg   FTuzu27agAA4CUZ.jpg  FUiz010XEAEN3zk.jpg\n",
            "FT0OMtvakAAEbAo.jpg   FTv4tFcaAAEUdzP.jpg  FUJ0hSkaUAAb5rk.jpg\n",
            "FT0orsPVUAAYhDP.jpg   FTv6JUyVIAAgzIL.jpg  FUJ1JjPaQAAJRHT.jpg\n",
            "FT0Q-BbWQAEmq_v.jpg   FTvb-SZXsAIJ9VD.jpg  FUJ38fWaAAATgFd.jpg\n",
            "FT0qIEuVUAEc1-9.jpg   FTvct87aIAASVWG.jpg  FUJ3qbXaAAEnlKf.jpg\n",
            "FT0rhlmUsAAvWyU.jpg   FTvFI23akAAKtmD.jpg  FUJ3UrQaMAAeJkR.jpg\n",
            "FT0s2UfaMAAmXqY.jpg   FTvFMBoUEAIwzqJ.jpg  FUJ4heUacAAlLJz.jpg\n",
            "FT0SPrSVsAE28aX.jpg   FTvF_MJUsAAmo1K.jpg  FUJ4JUqaQAAn837.jpg\n",
            "FT0TgZCWQAArlcR.jpg   FTvGS5kWQAg5pyP.jpg  FUJ53pUUsAAy2bb.jpg\n",
            "FT0Ubc9VsAAtIkF.jpg   FTvHYxjUAAAqumF.jpg  FUJawTVacAA6cco.jpg\n",
            "FT0URAfVEAEMePG.jpg   FTvobxGUcAAQ-CF.jpg  FUJbfbcaAAAZEeU.jpg\n",
            "FT0Ven0UEAEna-o.jpg   FT-vpWsXoAA8ROG.jpg  FUJBYQRVsAAxyBb.jpg\n",
            "FT0vQxXacAA1qF3.jpg   FTvZFiuXEAA3z7a.jpg  FUjGqkJWAAANui7.jpg\n",
            "FT0WBjVUAAAzNCT.jpg   FTw26dCaQAEx80R.jpg  FUJJgHoaQAELI3e.jpg\n",
            "FT0XdIxWQAAQygM.jpg   FTw2cfDakAE4jhI.jpg  FUjjUOSaMAEiOMn.jpg\n",
            "FT0XdsYXsAAp07v.jpg   FTw5IPIWAAAfze8.jpg  FUJl6ocUsAEij-U.jpg\n",
            "FT0YZsuUsAA-Zt9.jpg   FTw5r05UsAASnaf.jpg  FUJLIL2VIAAnOvP.jpg\n",
            "FT0ZEbQaAAATmxq.jpg   FTwBwBTaMAA3Q3l.jpg  FUJLmtvVIAAtRrQ.jpg\n",
            "FT0ZlGFUsAA0eId.jpg   FTwD1XTaQAEakFo.jpg  FUjlWe8aMAMegSs.jpg\n",
            "FT13iOKWIAUPBaO.jpg   FTwi7KPaAAAOx6Q.jpg  FUJmGUBUUAAjkl5.jpg\n",
            "FT14kUVaUAIFuqx.jpg   FTwn_a_aQAA3wlN.jpg  FUjOvQPUsAEvRxV.jpg\n",
            "FT15BgXaMAA2Rx6.jpg   FTwnwj4VsAAKX14.jpg  FUjOwp9WUAED2wW.jpg\n",
            "FT16g2EaIAEEh5S.jpg   FTwnzRIXoAEP0UP.jpg  FUjpXzKXEAAqUi9.jpg\n",
            "FT177_yXoAAoVSg.jpg   FTx7l64UUAEy67v.jpg  FUJQ9jKaIAEsdGc.jpg\n",
            "FT17mhSaQAA0V5g.jpg   FTxAcDrX0AIram3.jpg  FUJQcmNaQAAAXlX.jpg\n",
            "FT18BHbagAA1J9f.jpg   FTxAoNFWUAAOU2R.jpg  FUjrXbYaIAAyW_K.jpg\n",
            "FT19XB_aUAEyrXz.jpg   FTxeW3YaAAANEZy.jpg  FUjTAFPakAAo1kZ.jpg\n",
            "FT1CzkoXoAEnnN-.jpg   FTxFVivVEAEQv3C.jpg  FUK0OvUVIAAsvwS.jpg\n",
            "FT1d7gTUAAAwJV5.jpg   FTxQLGWaIAAM2cq.jpg  FUk1HdqVUAAJ4On.jpg\n",
            "FT1eiueXwAEPoo_.jpg   FT-xyTNWQAMR1jL.jpg  FUK1UzbUAAI-49S.jpg\n",
            "FT1GuSOVEAAGuXj.jpg   FTy6AYDaIAAXg9g.jpg  FUK43UVVUAIn-XM.jpg\n",
            "FT1h0x5VIAA5oSS.jpg   FTymZVWakAAiJg2.jpg  FUK4RJfVsAEpOSY.jpg\n",
            "FT1H9I0WUAAxfa5.jpg   FTypzAtVUAA6omK.jpg  FUKAWkLVIAAHA1D.jpg\n",
            "FT1Il_jaIAAk9dX.jpg   FTyx7KWUUAE2o9r.jpg  FUkF8shWQAASwHW.jpg\n",
            "FT1JRdgUcAAGmmb.jpg   FTyy5UmWQAAWGnr.jpg  FUkFKGWXoAEs0tw.jpg\n",
            "FT1lebyaUAMKk-b.jpg   FTz123rUsAE7h4U.jpg  FUKFuEhaAAAf6bQ.jpg\n",
            "FT1LGNvaUAAv6-9.jpg   FTz-12dUUAAj-74.jpg  FUkG_29WQAAKOdG.jpg\n",
            "FT1MfMyVUAIdz3A.jpg   FTz1MNRaUAAR81e.jpg  FUkGbmyXsAI1VTD.jpg\n",
            "FT1MLUjaMAA_6lD.jpg   FTz2J11agAA9-I2.jpg  FUkGZ0AagAERYEo.jpg\n",
            "FT1mUkuUsAA80hL.jpg   FTz2zJSagAAQLLO.jpg  FUKHBjZWIAEZhJr.jpg\n",
            "FT1n76TVsAAFq-8.jpg   FTz37j7agAAa2Gj.jpg  FUKI9OdWUAA4XHH.jpg\n",
            "FT1POeDUUAA1Hgh.jpg   FTz5NvqXsAELwFY.jpg  FUkIFSUUYAAQnQ_.jpg\n",
            "FT1rRAxacAIk_1F.jpg   FTz5xFGUUAAaTYi.jpg  FUKLvyRaAAAbrlJ.jpg\n",
            "FT1RZF0akAAXndp.jpg   FTz7kHkXwAAfUns.jpg  FUKMLvTaIAEe-Ww.jpg\n",
            "FT1-SYPUcAAWEpI.jpg   FTz9bLlUYAALZ_a.jpg  FUKMxIsagAUU4Ta.jpg\n",
            "FT1t7RdaAAAjEUj.jpg   FTzA1zHUsAUhIy8.jpg  FUKsjSjakAE76YV.jpg\n",
            "FT1TG08agAAjhlw.jpg   FTzbBtvX0AESrDk.jpg  FUKwtWGUYAEnJ9S.jpg\n",
            "FT1tOcpXsAEhnj8.jpg   FTzc0MnakAECBqk.jpg  FUKX2x4VIAAunxF.jpg\n",
            "FT1UxRCUYAAL56N.jpg   FTzdghqUcAAsy6o.jpg  FUKXPu6VsAAqdE-.jpg\n",
            "FT1V0KXVEAA5RhU.jpg   FTzDNPiUYAAyWBH.jpg  FUm4g5QaMAACZl4.jpg\n",
            "FT1V2DcaAAEP-QF.jpg   FTzeT_VaQAAPgj_.jpg  FUMcd29aAAACiHd.jpg\n",
            "FT1wz2daAAAFDrB.jpg   FTzfwEHaAAA85MG.jpg  FUmd_NraQAE6gDM.jpg\n",
            "FT1x-5qagAAvPo5.jpg   FTzGXXVagAA6EPJ.jpg  FUmg_FsWIAABwVd.jpg\n",
            "FT1ylAXXoAAsZvc.jpg   FTzIfBTUUAENAQ6.jpg  FUM-KZMUEAAdoSO.jpg\n",
            "FT1yn0QWUAADVrQ.jpg   FTzJdaGWQAMLQAk.jpg  FUmm-OVagAAQrxf.jpg\n",
            "FT1-z5qUAAAw_oZ.jpg   FTznjCeaIAAizQJ.jpg  FUMwgsWUUAAKjQO.jpg\n",
            "FT2aSraaAAA8_k3.jpg   FTzpmVJacAAV_l0.jpg  FUn0H9WaUAcGCem.jpg\n",
            "FT2BkGKakAAc91M.jpg   FTzq9y4akAAYlNr.jpg  FUN0R_SUYAAcNW8.jpg\n",
            "FT2c5dyUsAA_HB-.jpg   FTzsXHjaAAE_5Ae.jpg  FUN2XfcaUAAnmiC.jpg\n",
            "FT2dxH3agAEny7H.jpg   FTzTi_0VIAEN7jS.jpg  FUn3msVakAAjWci.jpg\n",
            "FT2EQGSakAIJuOP.jpg   FTzTU-pVIAEglAR.jpg  FUN4lrMUAAAc_pj.jpg\n",
            "FT2GfTKaAAEz9SJ.jpg   FTzubJDVEAAW8xa.jpg  FUN5cqKagAACf0b.jpg\n",
            "FT2gNipVIAAYw_D.jpg   FTzuc_eacAAaltz.jpg  FUnahq4XoAAKWIo.jpg\n",
            "FT2j24BacAIOk_j.jpg   FTzV1ucaQAAEXRe.jpg  FUNM8ccXoAEHNaK.jpg\n",
            "FT_-2J8aIAIAk9V.jpg   FTzv_7zaQAAdOhn.jpg  FUnOYGwaQAAyjzO.jpg\n",
            "FT2mg5takAAToZH.jpg   FTzVfo4VsAAbEMF.jpg  FUnpz2dacAERZRe.jpg\n",
            "FT2MM-MVIAEcka4.jpg   FTzVGEeXEAAQb6Q.jpg  FUN_raCXsAEvum1.jpg\n",
            "FT2mvyCUEAUo9WM.jpg   FTzXPxIXwAcLzC_.jpg  FUnRL0dX0AAo4zA.jpg\n",
            "FT2MwYnVUAAPpzk.jpg   FTzXYcTX0AAODLb.jpg  FUNtARkaQAAXH7L.jpg\n",
            "FT2NFRQXwAE54pr.jpg   FTzzou4WAAA69cv.jpg  FUN-UHaagAElvxj.jpg\n",
            "FT2O14AUYAAHQYb.jpg   FUA0xcAagAAr3Am.jpg  FUnvSIgaIAAeriw.jpg\n",
            "FT2qZv4WYAEO4MX.jpg   FUa5aRWacAAo34D.jpg  FUnws3eVUAAqeQZ.jpg\n",
            "FT2Wuh2WIAEWkuz.jpg   FUAAyb4X0AAIkVN.jpg  FUOamuzaAAA73W-.jpg\n",
            "FT35UA_UEAARoAm.jpg   FUaChF0acAAej_c.jpg  FUOBxKSXEAgVs_3.jpg\n",
            "FT37bnKWUAMRUYW.jpg   FUaE7BxUAAAEigT.jpg  FUoCCZ1XwAAW_kz.jpg\n",
            "FT37XKkaQAEEFbY.jpg   FUaETFyacAAHh7r.jpg  FUOEiFhWAAYQQcg.jpg\n",
            "FT3BzlaaUAAShFV.jpg   FUaiGeUWUAAT5GI.jpg  FUoExB2VUAALgkN.jpg\n",
            "FT3IExnVIAAC_8s.jpg   FUAJcBqXoAcLs4K.jpg  FUOFepzUcAA9C6_.jpg\n",
            "FT3yMdTUsAABMrU.jpg   FUAJKDRaQAAKe1L.jpg  FUOFRoUaMAAK7SK.jpg\n",
            "FT41L91agAEHb9D.jpg   FUAKEftXoAAU-W0.jpg  FUoHF5jXoAI7_am.jpg\n",
            "FT44nPtUEAIGAqc.jpg   FUALk-dWAAIAF-N.jpg  FUOIft9VIAETEq4.jpg\n",
            "FT49yvTXsAAbKYI.jpg   FUAMg0XXEAAmBO6.jpg  FUOKGknXEAAGRY9.jpg\n",
            "FT4A1CmacAAMeyl.jpg   FUANFU5WIAEZnRQ.jpg  FUOkGXcWQAIw-Oi.jpg\n",
            "FT4bP4OaUAA2LEo.jpg   FUaNuKgVUAATANv.jpg  FUOkK1FWUAAKhhP.jpg\n",
            "FT4Bq2XXsAE8ctH.jpg   FUAPpM-WUAENdNq.jpg  FUo-M5HaIAIbHuH.jpg\n",
            "FT4DFT9XoAErDBw.jpg   FUARtwBacAEBbXs.jpg  FUOvfc3UcAAxzbV.jpg\n",
            "FT4eB1WaIAAfpnH.jpg   FUASkTiX0AAdxhT.jpg  FUOvZEyUYAI8fY8.jpg\n",
            "FT4F9liVEAIFifN.jpg   FUAV4rnaUAID_A-.jpg  FUOXPMPWUAIu2id.jpg\n",
            "FT4fNhNagAEjdmz.jpg   FUAXCmZakAAytp0.jpg  FUp0jkpakAAzeMF.jpg\n",
            "FT4ftX5XEAY6kX3.jpg   FUAXMIvaUAERl--.jpg  FUpCcMvVEAAviNO.jpg\n",
            "FT4gNs1WYAAfLC5.jpg   FUaZ_J_aAAUoUjg.jpg  FUPEdsuagAAg5ni.jpg\n",
            "FT4HbEtacAAoLEg.jpg   FUb3Zd0aQAEaCqp.jpg  FUPgE3aaAAAICEq.jpg\n",
            "FT4jcPvUYAEEnnC.jpg   FUb7NjOagAAZ4k_.jpg  FUpHO04akAAdh3-.jpg\n",
            "FT4KeXAWAAEcssF.jpg   FUC3NlmacAADTi6.jpg  FUpkXUWUAAAFo9t.jpg\n",
            "FT4-KIpUcAE-e1s.jpg   FUC5-TnXwAE9os4.jpg  FUPlFmnaUAAF320.jpg\n",
            "FT4kTGLVIAABonW.jpg   FUC6LhiWQAAKsd2.jpg  FUPOgnGVsAEOh_r.jpg\n",
            "FT4ltp8WIAE8V2F.jpg   FUc7AzXagAAaQR7.jpg  FUpPeHbXsAEI_k_.jpg\n",
            "FT4m__GacAAtTqY.jpg   FUC7RpJakAATYyI.jpg  FUpTiEIUEAA3rev.jpg\n",
            "FT4mjyZXEAEs3e7.jpg   FUC89BlakAEaEaj.jpg  FUPu3VdaUAciofS.jpg\n",
            "FT4pSNUaUAAqPKQ.jpg   FUC8xLHaAAAlsan.jpg  FUQaUyqaQAEaQay.jpg\n",
            "FT4ptMjXsAAKE4m.jpg   FUcgJUnagAAIRxv.jpg  FUQCxWYagAAnXsT.jpg\n",
            "FT4Q97-XoAA4M_j.jpg   FUChTKlaIAAn5Sn.jpg  FUR_9e8agAAAPYu.jpg\n",
            "FT4QksAaMAAMWT4.jpg   FUciqZ7agAAiMEQ.jpg  FUS7AGzakAAjiwi.jpg\n",
            "FT4T7Z-VsAAhiOw.jpg   FUcMMp8aIAAbiU9.jpg  FUS8aIAXoAsHzir.jpg\n",
            "FT4TMR3aQAANosv.jpg   FUcof3CUsAAuc_4.jpg  FUT1vnzagAAIqF9.jpg\n",
            "FT4US0WaUAEuhmz.jpg   FUcoxbwWIAAWVGp.jpg  FUT31GZWIAEh4YW.jpg\n",
            "FT4v8jWWYAACc-V.jpg   FUcr6f8aUAEi6j-.jpg  FUTaAA9aAAArZrI.jpg\n",
            "FT4v9T6aQAA4cf_.jpg   FUcrg-TUsAAj4QF.jpg  FUTb3-dXEAEyjSc.jpg\n",
            "FT4vhFaaIAAW-xU.jpg   FUcWYE-aMAAYULQ.jpg  FUTlbucXsAEpofy.jpg\n",
            "FT4W0rSUEAAdu7b.jpg   FUcYzteakAAqrRN.jpg  FUTrCiwaQAAnZi7.jpg\n",
            "FT4Wpp6WIAYu8m7.jpg   FUCzefnaQAEzouO.jpg  FUTVinlUsAEvW3R.jpg\n",
            "FT4WqzVagAEWoAM.jpg   FUd3adEXEAElRaT.jpg  FUTYo5iXoAEC9aY.jpg\n",
            "FT4wUYkaIAAI1cv.jpg   FUD70wxaQAANq41.jpg  FUU3rcAVIAAttF5.jpg\n",
            "FT4wvR1aUAI95YO.jpg   FUdAc2RUEAAwwFY.jpg  FUU3ueqaUAA0p09.jpg\n",
            "FT4XU1vXwAE_XSF.jpg   FUDCYrjaAAEKci_.jpg  FUU47aDXwAILIQm.jpg\n",
            "FT4XzMmUAAAHlsq.jpg   FUdD1LlaIAAI0KD.jpg  FUU-EybXsAEsRYN.jpg\n",
            "FT4YETGX0AAY9BK.jpg   FUdD64bacAAIOm1.jpg  FUUfMpNXEAwailA.jpg\n",
            "FT4YGdTVUAI6vWa.jpg   FUDDAgcaUAI_AfB.jpg  FUUFqr3UsAETlaX.jpg\n",
            "FT4-YtYaQAEhY_q.jpg   FUdECYQagAAiP1u.jpg  FUULtwTaUAEhRHR.jpg\n",
            "FT4zDdjaMAA7wmU.jpg   FUDF-L2aAAAkPNZ.jpg  FUUXLCnaUAABtYC.jpg\n",
            "FT5780yaUAEWduZ.jpg   FUDhc9JaQAA9mTs.jpg  FUVCQquX0AIR4N9.jpg\n",
            "FT5DI9DUsAAx7UI.jpg   FUdj7oOXEAAfxlX.jpg  FUVCT1TUEAEJGmx.jpg\n",
            "FT5Dkc9akAAKWnr.jpg   FUDjE-qaIAAlHEV.jpg  FUVCVKKXoAIxsrN.jpg\n",
            "FT5EV96aQAI5_tn.jpg   FUDKMq6aUAA5Xhp.jpg  FUW9LOSacAAZ8Va.jpg\n",
            "FT5-MgsVsAAgWl5.jpg   FUDMGczaQAAcTbB.jpg  FUWoUIuUEAA7Ykh.jpg\n",
            "FT5nBg1VEAAvoJm.jpg   FUdpyGHVsAImYy9.jpg  FUX0QMlWQAA8Uw9.jpg\n",
            "FT5Oxt9akAAogI1.jpg   FUDqgeNaUAAErJu.jpg  FUX1ORdXEAEjQtv.jpg\n",
            "FT5pxBeaIAEIniw.jpg   FUdSDtbaMAAg3Py.jpg  FUX8nGbWYAUVlZX.jpg\n",
            "FT5pYoYWUAEXagy.jpg   FUdTh0AaQAAwubt.jpg  FUX8YH4aQAAmf3X.jpg\n",
            "FT5r2gNaIAExU_r.jpg   FUDVUozUcAA6a8I.jpg  FUXhyTZaIAIb3qB.jpg\n",
            "FT5rO3fVUAAO8Ip.jpg   FUdW_cRVIAMRvPg.jpg  FUXqdAvaQAAfUSj.jpg\n",
            "FT5rWBIaUAEWX3E.jpg   FUDyfwnWYAImqPW.jpg  FUXshJ3akAAQQ57.jpg\n",
            "FT5sADwWAAE4xRD.jpg   FUDzgTiaUAEaHRl.jpg  FUYCQQuXoAA4-Hc.jpg\n",
            "FT5sCfWWYAIEnzJ.jpg   FUE54_9acAQl0Sg.jpg  FUYe631VEAA_alA.jpg\n",
            "FT5t0g-XEAETCO0.jpg   FUE5YDcaIAE8LtA.jpg  FUYF7HnaAAEA20r.jpg\n",
            "FT5xX5mUcAEXnf0.jpg   FUE9SiRacAECr5l.jpg  FUYgOg_UsAAW421.jpg\n",
            "FT5xzHBUcAATdkt.jpg   FUEBwZUVsAAA-Do.jpg  FUYH2euakAEqFlN.jpg\n",
            "FT65BeLVEAEgKcp.jpg   FUEE8AKXoAATldA.jpg  FUYNuU_aAAAUn9P.jpg\n",
            "FT6A3i9acAUJ3ls.jpg   FUEF6rmakAAIZrc.jpg  FUYQ8dbUAAAM0Mb.jpg\n",
            "FT6d3UlX0AE1Uyz.jpg   FUEgOlVUUAEHpwf.jpg  FUY-_UAaQAAcSk-.jpg\n",
            "FT6hvDUaUAAAiZ4.jpg   FUEgUUOVIAMYBza.jpg  FUYYek6WIAIphUU.jpg\n",
            "FT6I72jVUAE-7eu.jpg   FUeidQrVIAEJLE4.jpg  FUYZba9XEAEavA7.jpg\n",
            "FT6i_gDXEAAU6Qb.jpg   FUEJGMjaMAA35l4.jpg  FUYzllOVIAAVJkU.jpg\n",
            "FT6ipF2VsAAH3xr.jpg   FUE-p1YakAAdu5z.jpg  FUZ3JdqacAAEmYh.jpg\n",
            "FT6KHRDXwAUEPER.jpg   FUeqSC1aMAA6PFV.jpg  FUZ_8jMUYAU8zNK.jpg\n",
            "FT6neCxacAQrBw3.jpg   FUerAHQakAMUVOA.jpg  FUZbmCwacAAMxm1.jpg\n",
            "FT6r3CgWUAEh2B1.jpg   FUeS1AcVIAABjAJ.jpg  FUZ_FyiakAAHSx4.jpg\n",
            "FT6s5LOWIAAJkRz.jpg   FUEsq8YaIAAiNmf.jpg  FUZg34taUAIMA2t.jpg\n",
            "FT6u-LKVIAALcj4.jpg   FUet7teVEAEfJbF.jpg  FUZG7u8UYAAXp0V.jpg\n",
            "FT6VpR3VsAAetIb.jpg   FUetaGYVsAA3QU0.jpg  FUZHsd9UcAAV9A9.jpg\n",
            "FT6vu3OUUAAGrfk.jpg   FUetedqagAAclWT.jpg  FUZK2qsUcAAbA0E.jpg\n",
            "FT-7677UYAEzgHV.jpg   FUEwEMWaUAAkkHi.jpg  FUZk70CaUAAAHIx.jpg\n",
            "FT7aM2lWYAIZruC.jpg   FUewV-9aMAIjbPU.jpg  FUZkwNIXEAAFsg3.jpg\n",
            "FT7QM8zVIAEhfWc.jpg   FUfA4rWaMAAfyta.jpg  FUZNFwmUAAAUNV_.jpg\n",
            "FT7QWELaMAAq8j6.jpg   FUF-c3AUYAA6RQS.jpg  FUZO2mMagAA4TJB.jpg\n",
            "FT7RJBMagAEMuYl.jpg   FUfJ7uEakAIMZCF.jpg  FUZOG5jaMAE61Bo.jpg\n",
            "FT7S09-UAAAkYJ2.jpg   FUfK2CWVIAA_POC.jpg  FUZw97pakAAUCNy.jpg\n",
            "FT_8iydXEAA3ndR.jpg   FUfkqSjagAI6bhP.jpg  FUZww82aUAA233L.jpg\n",
            "FT8lyILUUAAe5fJ.jpg   FUFkuhJaIAAVWAl.jpg  J3kStUsVlCraUqTC.jpg\n",
            "FT_904JaMAIBOei.jpg   FUfKVHjXwAAzY4l.jpg  jeFkg-LrZEFa7mCD.jpg\n",
            "FT9eO_CaQAA_-5U.jpg   FUfn9cSX0AEJsS0.jpg  kMuOzXUqVS5lORzI.jpg\n",
            "FT9fkIZakAEPUc7.jpg   FUFPn0jUcAEisAF.jpg  lO6p-cuyuM5NS6tv.jpg\n",
            "FT9Mf5pUcAA67Is.jpg   FUfsgH4VIAASCaa.jpg  Oc9xbeiSnozHqLc4.jpg\n",
            "FT9XnuCaAAAHmvg.jpg   FUFTaUnaQAAlnvr.jpg  St_WI0oIsjqAGayY.jpg\n",
            "FT9yewdaQAAu9AF.jpg   FUFYm35aIAAmM-a.jpg  thp-4aug_YZBoC_y.jpg\n",
            "FT-djeZakAASs6R.jpg   FUg95CbWAAER27Z.jpg  uzzTS-4blcJxz-jb.jpg\n",
            "FT_elDqaIAAwTnr.jpg   FUg-hJqWYAIXy-7.jpg  xkoqWtNZ53uA3PTs.jpg\n",
            "FT-fZMRXoAAeAlD.jpg   FUh6fA4VsAADOwb.jpg\n"
          ]
        }
      ]
    },
    {
      "cell_type": "code",
      "source": [
        ""
      ],
      "metadata": {
        "id": "-Ibon6-unsjB"
      },
      "execution_count": null,
      "outputs": []
    }
  ]
}