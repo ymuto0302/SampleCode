{
  "nbformat": 4,
  "nbformat_minor": 0,
  "metadata": {
    "colab": {
      "name": "Colabにおけるzipファイルの操作.ipynb",
      "provenance": [],
      "collapsed_sections": [],
      "mount_file_id": "1NDrjA_EgWvvyocU9AN-3JsLC3hFxpl-i",
      "authorship_tag": "ABX9TyO666/RgB5i+VIs+j7CQ8Ju",
      "include_colab_link": true
    },
    "kernelspec": {
      "name": "python3",
      "display_name": "Python 3"
    },
    "language_info": {
      "name": "python"
    }
  },
  "cells": [
    {
      "cell_type": "markdown",
      "metadata": {
        "id": "view-in-github",
        "colab_type": "text"
      },
      "source": [
        "<a href=\"https://colab.research.google.com/github/ymuto0302/SampleCode/blob/main/Colab%E3%81%AB%E3%81%8A%E3%81%91%E3%82%8Bzip%E3%83%95%E3%82%A1%E3%82%A4%E3%83%AB%E3%81%AE%E6%93%8D%E4%BD%9C.ipynb\" target=\"_parent\"><img src=\"https://colab.research.google.com/assets/colab-badge.svg\" alt=\"Open In Colab\"/></a>"
      ]
    },
    {
      "cell_type": "markdown",
      "source": [
        "# Google Drive に置かれた zip ファイルを扱う方法\n",
        "zip ファイルの展開について，各操作の背景も含めて詳しく書かれている。\n",
        "\n",
        "https://kenko-keep.com/colab-cp-unzip/\n",
        "\n",
        "以下では，Kaggle にて公開されている Flower Classification を例として説明を進める。\n",
        "https://www.kaggle.com/datasets/sauravagarwal/flower-classification"
      ],
      "metadata": {
        "id": "AWCDHhA6Hpof"
      }
    },
    {
      "cell_type": "code",
      "execution_count": null,
      "metadata": {
        "colab": {
          "base_uri": "https://localhost:8080/"
        },
        "id": "16gRlZziHSTR",
        "outputId": "c67eec1e-61f5-4e0c-a0bd-0ff142e0ca76"
      },
      "outputs": [
        {
          "output_type": "stream",
          "name": "stdout",
          "text": [
            "archive.zip\n"
          ]
        }
      ],
      "source": [
        "# Google Drive 上の zip ファイルが存在することを確認\n",
        "!ls /content/drive/MyDrive/4Bゼミ_2022/flower-classification/"
      ]
    },
    {
      "cell_type": "code",
      "source": [
        "# zip ファイルを Google Colab へコピー\n",
        "!cp \"/content/drive/MyDrive/4Bゼミ_2022/flower-classification/archive.zip\" ."
      ],
      "metadata": {
        "id": "f7Dw5YCAHgTf"
      },
      "execution_count": null,
      "outputs": []
    },
    {
      "cell_type": "code",
      "source": [
        "# zip ファイルの解凍\n",
        "!unzip archive.zip > /dev/null"
      ],
      "metadata": {
        "colab": {
          "base_uri": "https://localhost:8080/"
        },
        "id": "h05dUhu-H9oy",
        "outputId": "297b6a01-f8de-48fa-a49c-4cec94f2ca79"
      },
      "execution_count": null,
      "outputs": [
        {
          "output_type": "stream",
          "name": "stdout",
          "text": [
            "replace flowers/flowers/flower_photos/test/daisy/10172379554_b296050f82_n.jpg? [y]es, [n]o, [A]ll, [N]one, [r]ename: y\n",
            "replace flowers/flowers/flower_photos/test/daisy/1306119996_ab8ae14d72_n.jpg? [y]es, [n]o, [A]ll, [N]one, [r]ename: A\n"
          ]
        }
      ]
    },
    {
      "cell_type": "markdown",
      "source": [
        "Google Colab 上では /content 以下に解凍されている。\n",
        "\n",
        "以下では，フォルダ内の構成を `ls` コマンドで確認している。"
      ],
      "metadata": {
        "id": "mcaB6kLtI1aq"
      }
    },
    {
      "cell_type": "code",
      "source": [
        "!ls /content/flowers/flowers/flower_photos"
      ],
      "metadata": {
        "colab": {
          "base_uri": "https://localhost:8080/"
        },
        "id": "J3cl0PnrIA_5",
        "outputId": "0a5883a6-607a-44b0-c1dd-d473f6bc97d7"
      },
      "execution_count": null,
      "outputs": [
        {
          "output_type": "stream",
          "name": "stdout",
          "text": [
            "test  train  validation\n"
          ]
        }
      ]
    },
    {
      "cell_type": "code",
      "source": [
        "!ls /content/flowers/flowers/flower_photos/train"
      ],
      "metadata": {
        "colab": {
          "base_uri": "https://localhost:8080/"
        },
        "id": "9O5zNNEaIQ1V",
        "outputId": "a4f84d59-3509-44a2-f76e-9527c4873559"
      },
      "execution_count": null,
      "outputs": [
        {
          "output_type": "stream",
          "name": "stdout",
          "text": [
            "daisy  dandelion  roses  sunflowers  tulips\n"
          ]
        }
      ]
    },
    {
      "cell_type": "code",
      "source": [
        "!ls /content/flowers/flowers/flower_photos/test/daisy"
      ],
      "metadata": {
        "colab": {
          "base_uri": "https://localhost:8080/"
        },
        "id": "32Q6xFuEIZ2P",
        "outputId": "ad2ddb91-3e62-48f0-f515-3e46560a63eb"
      },
      "execution_count": null,
      "outputs": [
        {
          "output_type": "stream",
          "name": "stdout",
          "text": [
            "10172379554_b296050f82_n.jpg  3552074420_2a0a7166db_m.jpg\n",
            "1306119996_ab8ae14d72_n.jpg   4141147800_813f660b47.jpg\n",
            "134409839_71069a95d1_m.jpg    538920244_59899a78f8_n.jpg\n",
            "19813618946_93818db7aa_m.jpg  5973488341_50bdf6cee3_n.jpg\n",
            "3338077096_3a8ed0e2bc_m.jpg   8446495985_f72d851482.jpg\n"
          ]
        }
      ]
    }
  ]
}